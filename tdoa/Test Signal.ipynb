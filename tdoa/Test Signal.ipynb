{
 "cells": [
  {
   "cell_type": "code",
   "execution_count": 1,
   "id": "applied-irish",
   "metadata": {},
   "outputs": [],
   "source": [
    "import numpy as np\n",
    "import matplotlib.pyplot as plt\n"
   ]
  },
  {
   "cell_type": "code",
   "execution_count": 2,
   "id": "embedded-occupation",
   "metadata": {},
   "outputs": [],
   "source": [
    "def createCpxTestSignal(frequencies, amplitudes, delays, lengths, sampling_frequency, signal_length)->np.ndarray:\n",
    "    assert(len(frequencies) == len(amplitudes) == len(delays) == len(lengths))\n",
    "    tIdx = np.arange(0, signal_length, 1/sampling_frequency)\n",
    "    signal = np.zeros(len(tIdx), dtype=np.complex64)\n",
    "    for i in range(len(frequencies)):\n",
    "        component = np.sin(2 * np.pi * frequencies[i] * (tIdx + delays[i])) + 1j * np.cos(2 * np.pi * frequencies[i] * (tIdx + delays[i]))\n",
    "        rectangle = (delays[0] < tIdx) & (tIdx < (delays[0] + lengths[0]))\n",
    "        signal += amplitudes[i] * component * rectangle\n",
    "    return signal, tIdx"
   ]
  },
  {
   "cell_type": "code",
   "execution_count": 13,
   "id": "bearing-reply",
   "metadata": {},
   "outputs": [],
   "source": [
    "frequencies = [1e4]\n",
    "amplitudes = [0.5]\n",
    "delays = [3e-8]\n",
    "lengths = [40e-3]\n",
    "sampling_frequency = 2e6\n",
    "signal_length = 0.05\n",
    "\n",
    "testSignal, t = createCpxTestSignal(frequencies, amplitudes, delays, lengths, sampling_frequency, signal_length)"
   ]
  },
  {
   "cell_type": "code",
   "execution_count": 14,
   "id": "virgin-julian",
   "metadata": {},
   "outputs": [
    {
     "data": {
      "image/png": "[encoded data removed]",
      "text/plain": [
       "<Figure size 432x288 with 1 Axes>"
      ]
     },
     "metadata": {
      "needs_background": "light"
     },
     "output_type": "display_data"
    }
   ],
   "source": [
    "plt.plot(t, np.real(testSignal))\n",
    "plt.plot(t, np.imag(testSignal))\n",
    "plt.grid()"
   ]
  },
  {
   "cell_type": "code",
   "execution_count": null,
   "id": "senior-disorder",
   "metadata": {},
   "outputs": [],
   "source": []
  }
 ],
 "metadata": {
  "kernelspec": {
   "display_name": "Python 3",
   "language": "python",
   "name": "python3"
  },
  "language_info": {
   "codemirror_mode": {
    "name": "ipython",
    "version": 3
   },
   "file_extension": ".py",
   "mimetype": "text/x-python",
   "name": "python",
   "nbconvert_exporter": "python",
   "pygments_lexer": "ipython3",
   "version": "3.7.5"
  }
 },
 "nbformat": 4,
 "nbformat_minor": 5
}
