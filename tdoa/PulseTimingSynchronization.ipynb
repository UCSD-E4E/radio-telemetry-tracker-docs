{
 "cells": [
  {
   "cell_type": "markdown",
   "metadata": {},
   "source": [
    "\n",
    "\n",
    "Goal: need to be able to measure delta time of two identical but time delayed signals to within 3e-8 seconds"
   ]
  },
  {
   "cell_type": "code",
   "execution_count": 77,
   "metadata": {},
   "outputs": [],
   "source": [
    "freq = 123.456"
   ]
  },
  {
   "cell_type": "code",
   "execution_count": 73,
   "metadata": {},
   "outputs": [],
   "source": [
    "import numpy as np\n",
    "import scipy.signal as sig\n",
    "import matplotlib.pyplot as plt"
   ]
  },
  {
   "cell_type": "code",
   "execution_count": 89,
   "metadata": {},
   "outputs": [
    {
     "name": "stdout",
     "output_type": "stream",
     "text": [
      "Collecting samplerate\n",
      "  Downloading https://files.pythonhosted.org/packages/0c/3c/4c1aa376332d18e708dcc3289e4dbdd2c508bcac1b8eb1b35b73092fa00f/samplerate-0.1.0-py2.py3-none-any.whl (4.0MB)\n",
      "Requirement already satisfied: cffi>=1.0.0 in c:\\users\\mluci\\anaconda3\\lib\\site-packages (from samplerate) (1.11.5)\n",
      "Requirement already satisfied: numpy in c:\\users\\mluci\\anaconda3\\lib\\site-packages (from samplerate) (1.15.4)\n",
      "Requirement already satisfied: pycparser in c:\\users\\mluci\\anaconda3\\lib\\site-packages (from cffi>=1.0.0->samplerate) (2.19)\n",
      "Installing collected packages: samplerate\n",
      "Successfully installed samplerate-0.1.0\n"
     ]
    }
   ],
   "source": [
    "import sys\n",
    "!{sys.executable} -m pip install samplerate"
   ]
  },
  {
   "cell_type": "code",
   "execution_count": 90,
   "metadata": {},
   "outputs": [],
   "source": [
    "import samplerate"
   ]
  },
  {
   "cell_type": "code",
   "execution_count": 78,
   "metadata": {},
   "outputs": [],
   "source": [
    "transmitTime = 0.020"
   ]
  },
  {
   "cell_type": "code",
   "execution_count": 79,
   "metadata": {},
   "outputs": [],
   "source": [
    "goal = 3 * (10 ** (-8))"
   ]
  },
  {
   "cell_type": "code",
   "execution_count": 188,
   "metadata": {},
   "outputs": [],
   "source": [
    "sampleRate = 2 * (10 ** 5)"
   ]
  },
  {
   "cell_type": "code",
   "execution_count": 189,
   "metadata": {},
   "outputs": [],
   "source": [
    "c = 3 * (10 ** 7)"
   ]
  },
  {
   "cell_type": "markdown",
   "metadata": {},
   "source": [
    "Assuming two perfectly synchronized receivers $(R_1, R_2)$, located at $(x_1, y_1)$ and $(x_2, y_2)$ "
   ]
  },
  {
   "cell_type": "code",
   "execution_count": 82,
   "metadata": {},
   "outputs": [],
   "source": [
    "# Ground truth transmitter location to be fixed, I have not yet calculated target location based on time offsets set below \n",
    "# (or I could calculate expected offsets based on location difference)\n",
    "x_target = 0\n",
    "y_target = 0\n",
    "\n",
    "x_1 = 0\n",
    "x_2 = 0\n",
    "\n",
    "y_1 = 25\n",
    "y_2 = -50"
   ]
  },
  {
   "cell_type": "code",
   "execution_count": 190,
   "metadata": {},
   "outputs": [],
   "source": [
    "def produceExampleSignal(sampleRate, offsetTime, transmitTime, freq, amp ):\n",
    "    duration = offsetTime + transmitTime\n",
    "    num_tot_samples = sampleRate * duration\n",
    "    num_samples = sampleRate * transmitTime\n",
    "    t = np.arange(num_samples) / sampleRate\n",
    "    t_tot = np.arange(num_tot_samples) / sampleRate\n",
    "    x = amp * np.sin(2 * np.pi * (freq * t - phase)) \n",
    "    new = np.zeros(int(sampleRate * offsetTime))\n",
    "    x = np.concatenate((new, np.array(x)))\n",
    "    return x, t_tot"
   ]
  },
  {
   "cell_type": "markdown",
   "metadata": {},
   "source": [
    "Assume $R_1$ is used as a reference sensor"
   ]
  },
  {
   "cell_type": "markdown",
   "metadata": {},
   "source": []
  },
  {
   "cell_type": "code",
   "execution_count": 191,
   "metadata": {},
   "outputs": [],
   "source": [
    "#sample sinusoid with offset\n",
    "#these represent absolute offsets from the start of recording time of Receiver 1\n",
    "\n",
    "offset_1 = .005\n",
    "offset_2 = .010\n",
    "\n",
    "#sample for 50ms, while signal is transitted for 20ms, assume sinusoid is centered at 0\n",
    "amp = 1\n",
    "phase = 0\n",
    "\n",
    "x_1, t_1 = produceExampleSignal(sampleRate, offset_1, transmitTime, freq, amp)"
   ]
  },
  {
   "cell_type": "code",
   "execution_count": 192,
   "metadata": {},
   "outputs": [
    {
     "data": {
      "text/plain": [
       "[<matplotlib.lines.Line2D at 0x2a96c46a080>]"
      ]
     },
     "execution_count": 192,
     "metadata": {},
     "output_type": "execute_result"
    },
    {
     "data": {
      "image/png": "[encoded data removed]",
      "text/plain": [
       "<Figure size 576x180 with 1 Axes>"
      ]
     },
     "metadata": {
      "needs_background": "light"
     },
     "output_type": "display_data"
    }
   ],
   "source": [
    "plt.figure(figsize=(8, 2.5))\n",
    "plt.plot(t_1, x_1, color='blue', linewidth=2.0, linestyle='-')"
   ]
  },
  {
   "cell_type": "code",
   "execution_count": 193,
   "metadata": {},
   "outputs": [],
   "source": [
    "x_2, t_2 = produceExampleSignal(sampleRate, offset_2, transmitTime, freq, 1.5)"
   ]
  },
  {
   "cell_type": "code",
   "execution_count": 194,
   "metadata": {},
   "outputs": [
    {
     "data": {
      "text/plain": [
       "[<matplotlib.lines.Line2D at 0x2a96c4c6f28>]"
      ]
     },
     "execution_count": 194,
     "metadata": {},
     "output_type": "execute_result"
    },
    {
     "data": {
      "image/png": "[encoded data removed]",
      "text/plain": [
       "<Figure size 576x180 with 1 Axes>"
      ]
     },
     "metadata": {
      "needs_background": "light"
     },
     "output_type": "display_data"
    }
   ],
   "source": [
    "plt.figure(figsize=(8, 2.5))\n",
    "plt.plot(t_2, x_2, color='red', linewidth=2.0, linestyle='-')"
   ]
  },
  {
   "cell_type": "markdown",
   "metadata": {},
   "source": [
    "#### The following alignment process is a simple case following methods details here: https://blog.endaq.com/synchronizing-signals"
   ]
  },
  {
   "cell_type": "code",
   "execution_count": 195,
   "metadata": {},
   "outputs": [],
   "source": [
    "#resample both signals to 3*10^8 sampling rate\n",
    "#Due to memory issues, I brought sampling rate down to 2*10^4, and goal down to 3*10^7 in order\n",
    "#to keep ratio between the two at 150\n",
    "res_x_1 = samplerate.resample(x_1, 150, 'linear')\n",
    "res_t_1 = samplerate.resample(t_1, 150, 'linear')\n",
    "res_x_2 = samplerate.resample(x_2, 150, 'linear')\n",
    "res_t_2 = samplerate.resample(t_2, 150, 'linear')"
   ]
  },
  {
   "cell_type": "code",
   "execution_count": 196,
   "metadata": {},
   "outputs": [
    {
     "data": {
      "text/plain": [
       "[<matplotlib.lines.Line2D at 0x2a96c4b2550>]"
      ]
     },
     "execution_count": 196,
     "metadata": {},
     "output_type": "execute_result"
    },
    {
     "data": {
      "image/png": "[encoded data removed]",
      "text/plain": [
       "<Figure size 576x180 with 1 Axes>"
      ]
     },
     "metadata": {
      "needs_background": "light"
     },
     "output_type": "display_data"
    }
   ],
   "source": [
    "plt.figure(figsize=(8, 2.5))\n",
    "plt.plot(res_t_2, res_x_2, color='red', linewidth=2.0, linestyle='-')\n",
    "plt.plot(res_t_1, res_x_1, color='blue', linewidth=2.0, linestyle='-')"
   ]
  },
  {
   "cell_type": "code",
   "execution_count": 197,
   "metadata": {},
   "outputs": [],
   "source": [
    "x_1_peaks, x_1_properties = sig.find_peaks(res_x_1)\n",
    "x_2_peaks, x_2_properties = sig.find_peaks(res_x_2)"
   ]
  },
  {
   "cell_type": "code",
   "execution_count": 198,
   "metadata": {},
   "outputs": [],
   "source": [
    "x_1_troughs, x_1_properties = sig.find_peaks(-res_x_1)\n",
    "x_2_troughs, x_2_properties = sig.find_peaks(-res_x_2)"
   ]
  },
  {
   "cell_type": "code",
   "execution_count": 199,
   "metadata": {},
   "outputs": [
    {
     "data": {
      "text/plain": [
       "array([332400, 575400], dtype=int64)"
      ]
     },
     "execution_count": 199,
     "metadata": {},
     "output_type": "execute_result"
    }
   ],
   "source": [
    "x_1_troughs"
   ]
  },
  {
   "cell_type": "code",
   "execution_count": 200,
   "metadata": {},
   "outputs": [
    {
     "name": "stdout",
     "output_type": "stream",
     "text": [
      "-150000\n",
      "-150000\n",
      "-150000\n",
      "-150000\n",
      "-150000\n",
      "\n",
      "Final Average:\n",
      "-150000.0\n"
     ]
    }
   ],
   "source": [
    "# Find Points of interest and average distance between points\n",
    "avg = 0\n",
    "for i in range(len(x_1_peaks)):\n",
    "    diff = x_1_peaks[i] - x_2_peaks[i]\n",
    "    avg += diff\n",
    "    print(diff)\n",
    "for i in range(len(x_1_troughs)):\n",
    "    diff = x_1_troughs[i] - x_2_troughs[i]\n",
    "    avg += diff\n",
    "    print(diff)\n",
    "avg = avg / (len(x_1_peaks)+len(x_1_troughs))\n",
    "print('\\nFinal Average:')\n",
    "print(avg)"
   ]
  },
  {
   "cell_type": "code",
   "execution_count": 174,
   "metadata": {},
   "outputs": [],
   "source": [
    "#align signals using average difference between points of interest\n",
    "def alignSignals(sig1, sig2, offset):\n",
    "    newSig1 = sig1\n",
    "    newSig2 = sig2\n",
    "    if offset < 0:\n",
    "        newSig2 = sig2[-offset::]\n",
    "    if offset > 0:\n",
    "        newSig1 = sig1[-offset::]   \n",
    "    return newSig1, newSig2"
   ]
  },
  {
   "cell_type": "code",
   "execution_count": 201,
   "metadata": {},
   "outputs": [],
   "source": [
    "aligned_1, aligned_2 = alignSignals(res_x_1, res_x_2, int(avg))"
   ]
  },
  {
   "cell_type": "code",
   "execution_count": 202,
   "metadata": {},
   "outputs": [
    {
     "data": {
      "text/plain": [
       "[<matplotlib.lines.Line2D at 0x2a96c6d5a58>]"
      ]
     },
     "execution_count": 202,
     "metadata": {},
     "output_type": "execute_result"
    },
    {
     "data": {
      "image/png": "[encoded data removed]",
      "text/plain": [
       "<Figure size 576x180 with 1 Axes>"
      ]
     },
     "metadata": {
      "needs_background": "light"
     },
     "output_type": "display_data"
    }
   ],
   "source": [
    "plt.figure(figsize=(8, 2.5))\n",
    "plt.plot(res_t_1, aligned_2, color='red', linewidth=2.0, linestyle='-')\n",
    "plt.plot(res_t_1, aligned_1, color='blue', linewidth=2.0, linestyle='-')"
   ]
  },
  {
   "cell_type": "markdown",
   "metadata": {},
   "source": [
    "Factors currently unaccounted for in simple case:\n",
    "\n",
    "- noise\n",
    "- differences in actual sampling rate\n",
    "- differences in received transmitter frequency\n",
    "- differences in received signal transmission length?\n",
    "- actual sampling rate and goal not used because of memory limitations(displaying resampled data was too much for my laptop)\n",
    "- In a lot of my functions I assumed receiver 1 would receive the signal first"
   ]
  },
  {
   "cell_type": "code",
   "execution_count": null,
   "metadata": {},
   "outputs": [],
   "source": []
  }
 ],
 "metadata": {
  "kernelspec": {
   "display_name": "Python 3",
   "language": "python",
   "name": "python3"
  },
  "language_info": {
   "codemirror_mode": {
    "name": "ipython",
    "version": 3
   },
   "file_extension": ".py",
   "mimetype": "text/x-python",
   "name": "python",
   "nbconvert_exporter": "python",
   "pygments_lexer": "ipython3",
   "version": "3.7.1"
  }
 },
 "nbformat": 4,
 "nbformat_minor": 2
}
