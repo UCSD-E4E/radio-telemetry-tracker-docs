{
 "cells": [
  {
   "cell_type": "markdown",
   "id": "extended-treasure",
   "metadata": {},
   "source": [
    "# Time Difference of Arrival\n",
    "\n",
    "Currently, the Radio Telemetry Tracker uses an RSSI model to localize transmitters (https://doi.org/10.1002/rob.22017).  This takes multiple measurements of the transmitters' RSSI over multiple locations to map out the RSSI path loss model.\n",
    "\n",
    "This approach is not ideal for many situations.  In particular, it does not suit the 2021 UCA deployment parameters, which specify a high frequency output, high accuracy, long duration monitoring configuration.  By high frequency output, we refer to a system that must generate localization solutions at short timescales (ten minutes).  By high accuracy, we refer to a system that must generate localization solutions accurate to better than GPS accuracy (expecting final accuracy of 1 meter).  By long duration, we are referring to a system that will be deployed for several weeks.\n",
    "\n",
    "One of the primary alternatives to RSSI based localization is Time Difference of Arrival (TDOA) localization.  The fundamental principle behind TDOA localization is that radio waves propagate at a known speed (speed of light).  While we cannot trivially measure the propagation time of the radio waves, we can trivially measure how much a signal is delayed.  Thus, if we can accurately synchronize multiple receivers, we can measure the difference in the signal's arrival time at each receiver, and thus calculate the location of the transmitter."
   ]
  },
  {
   "cell_type": "markdown",
   "id": "strategic-edmonton",
   "metadata": {},
   "source": [
    "# Theory\n",
    "\n",
    "The math in this section is drawn from the following sources:\n",
    "- https://ieeexplore.ieee.org/abstract/document/1201741\n",
    "- https://ieeexplore.ieee.org/abstract/document/1238756\n",
    "\n",
    "Let us assume the existence of $N+1$ receivers, where $N >= 3$.  We therefore have $N$ delta time measurements, denoted $\\Delta t_1, \\Delta t_2, \\dots, \\Delta t_N$, all with respect to $t_0$.\n",
    "\n",
    "Thus, we can then calculate the range differences by multiplying the time delta by the speed of light.  We now have $N$ range differences: $d_i = c \\Delta t_i$ for $i \\in \\left[1, N\\right]$.\n",
    "\n",
    "Each receiver must have a known location $\\vec{x}_i \\triangleq \\begin{bmatrix}x_i\\\\y_i\\\\z_i\\end{bmatrix}$ for $i \\in \\left[0, N\\right]$.  We denote the transmitter's unknown position as $\\vec{x} = \\begin{bmatrix}x\\\\y\\\\z\\end{bmatrix}$\n",
    "\n",
    "We can define $\\mathbf{S} \\triangleq \\begin{bmatrix} x_1 & y_1 & z_1 \\\\ \\vdots & \\vdots & \\vdots \\\\ x_N & y_N & z_N\\end{bmatrix}$ and the vectors $\\mathbf{z} \\triangleq \\frac{1}{2}\\begin{bmatrix}x_1^2 + y_1^2 + z_1^2 - d_1^2\\\\ \\vdots \\\\ x_N^2 + y_N^2 + z_N^2 - d_N^2\\end{bmatrix}$, $\\mathbf{d} \\triangleq \\begin{bmatrix}d_1 \\\\ \\vdots \\\\ d_N\\end{bmatrix}$, where $\\mathbf{S}\\mathbf{x} = \\mathbf{z} - \\mathbf{d}R_S$"
   ]
  },
  {
   "cell_type": "markdown",
   "id": "prescription-gilbert",
   "metadata": {},
   "source": []
  },
  {
   "cell_type": "code",
   "execution_count": null,
   "id": "meaningful-burner",
   "metadata": {},
   "outputs": [],
   "source": []
  }
 ],
 "metadata": {
  "kernelspec": {
   "display_name": "Python 3",
   "language": "python",
   "name": "python3"
  },
  "language_info": {
   "codemirror_mode": {
    "name": "ipython",
    "version": 3
   },
   "file_extension": ".py",
   "mimetype": "text/x-python",
   "name": "python",
   "nbconvert_exporter": "python",
   "pygments_lexer": "ipython3",
   "version": "3.7.5"
  }
 },
 "nbformat": 4,
 "nbformat_minor": 5
}
